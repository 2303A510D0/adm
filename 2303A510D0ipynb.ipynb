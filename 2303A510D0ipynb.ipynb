{
  "nbformat": 4,
  "nbformat_minor": 0,
  "metadata": {
    "colab": {
      "provenance": [],
      "authorship_tag": "ABX9TyPyq/OlinckFg3e1WtLv39Q",
      "include_colab_link": true
    },
    "kernelspec": {
      "name": "python3",
      "display_name": "Python 3"
    },
    "language_info": {
      "name": "python"
    }
  },
  "cells": [
    {
      "cell_type": "markdown",
      "metadata": {
        "id": "view-in-github",
        "colab_type": "text"
      },
      "source": [
        "<a href=\"https://colab.research.google.com/github/2303A510D0/adm/blob/main/2303A510D0ipynb.ipynb\" target=\"_parent\"><img src=\"https://colab.research.google.com/assets/colab-badge.svg\" alt=\"Open In Colab\"/></a>"
      ]
    },
    {
      "cell_type": "code",
      "execution_count": null,
      "metadata": {
        "id": "x2ovzXEaTZQX",
        "colab": {
          "base_uri": "https://localhost:8080/"
        },
        "outputId": "ef56c46c-7bf4-4cd6-b2fc-4d97dbb692bb"
      },
      "outputs": [
        {
          "output_type": "stream",
          "name": "stdout",
          "text": [
            "Mounted at /content/drive\n"
          ]
        }
      ],
      "source": [
        "from google.colab import drive\n",
        "drive.mount('/content/drive')"
      ]
    },
    {
      "cell_type": "code",
      "source": [
        "a=str(input(\"Enter the name of the file with .txt extension:\"))\n",
        "file2=open(a,'r')\n",
        "line=file2.readline()\n",
        "while(line!=\"\"):\n",
        "    print(line)\n",
        "    line=file2.readline()\n",
        "   \\ file2.close()"
      ],
      "metadata": {
        "id": "jUlSfFhmXM7I",
        "colab": {
          "base_uri": "https://localhost:8080/"
        },
        "outputId": "48f198fc-b09b-4d54-df5b-4197c5da338e"
      },
      "execution_count": null,
      "outputs": [
        {
          "output_type": "stream",
          "name": "stdout",
          "text": [
            "Enter the name of the file with .txt extension:A.txt\n",
            "this is my first lab\n"
          ]
        }
      ]
    },
    {
      "cell_type": "code",
      "source": [
        "with open(\"A.txt\") as f:\n",
        "    with open(\"out.txt\", \"w\") as f1:\n",
        "        for line in f:\n",
        "            f1.write(line)"
      ],
      "metadata": {
        "id": "c4jqT7Q3ZKin"
      },
      "execution_count": null,
      "outputs": []
    },
    {
      "cell_type": "code",
      "source": [
        "fname = input(\"Enter file name: \")\n",
        "num_lines = 0\n",
        "with open(fname, 'r') as f:\n",
        "    for line in f:\n",
        "        num_lines += 1\n",
        "print(\"Number of lines:\")\n",
        "print(num_lines)"
      ],
      "metadata": {
        "colab": {
          "base_uri": "https://localhost:8080/"
        },
        "id": "VpW3ATT0bA74",
        "outputId": "8f55b50a-e8aa-42e2-f72b-9b1e1c07def1"
      },
      "execution_count": null,
      "outputs": [
        {
          "output_type": "stream",
          "name": "stdout",
          "text": [
            "Enter file name: A.txt\n",
            "Number of lines:\n",
            "1\n"
          ]
        }
      ]
    },
    {
      "cell_type": "code",
      "source": [
        "fname = input(\"Enter file name: \")\n",
        "word=input(\"Enter word to be searched:\")\n",
        "k = 0\n",
        "\n",
        "with open(fname, 'r') as f:\n",
        "    for line in f:\n",
        "        words = line.split()\n",
        "        for i in words:\n",
        "            if(i==word):\n",
        "                k=k+1\n",
        "print(\"Occurrences of the word:\")\n",
        "print(k)"
      ],
      "metadata": {
        "colab": {
          "base_uri": "https://localhost:8080/"
        },
        "id": "GCGphaAKbnLA",
        "outputId": "e833d394-258b-4183-b4b9-f09990534e35"
      },
      "execution_count": null,
      "outputs": [
        {
          "output_type": "stream",
          "name": "stdout",
          "text": [
            "Enter file name: A.txt\n",
            "Enter word to be searched:A.txt\n",
            "Occurrences of the word:\n",
            "0\n"
          ]
        }
      ]
    },
    {
      "cell_type": "code",
      "source": [
        "fname = input(\"Enter file name: \")\n",
        "\n",
        "num_words = 0\n",
        "\n",
        "with open(fname, 'r') as f:\n",
        "    for line in f:\n",
        "        words = line.split()\n",
        "        num_words += len(words)\n",
        "print(\"Number of words:\")\n",
        "print(num_words)"
      ],
      "metadata": {
        "colab": {
          "base_uri": "https://localhost:8080/"
        },
        "id": "xj0LTdSib7I_",
        "outputId": "90e44465-2d8f-4773-e7d3-5927dd8b476e"
      },
      "execution_count": null,
      "outputs": [
        {
          "output_type": "stream",
          "name": "stdout",
          "text": [
            "Enter file name: A.txt\n",
            "Number of words:\n",
            "5\n"
          ]
        }
      ]
    },
    {
      "cell_type": "code",
      "source": [
        "fname = input(\"Enter file name: \")\n",
        "\n",
        "with open(fname, 'r') as f:\n",
        "    for line in f:\n",
        "        l=line.title()\n",
        "        print(l)"
      ],
      "metadata": {
        "colab": {
          "base_uri": "https://localhost:8080/"
        },
        "id": "lxCfbdyFcOAm",
        "outputId": "794037a8-7cd0-4683-96a9-bfd6be355d05"
      },
      "execution_count": null,
      "outputs": [
        {
          "output_type": "stream",
          "name": "stdout",
          "text": [
            "Enter file name: A.txt\n",
            "This Is My First Lab\n"
          ]
        }
      ]
    },
    {
      "cell_type": "code",
      "source": [
        "fname = input(\"Enter file name: \")\n",
        "l=input(\"Enter letter to be searched:\")\n",
        "k = 0\n",
        "\n",
        "with open(fname, 'r') as f:\n",
        "    for line in f:\n",
        "        words = line.split()\n",
        "        for i in words:\n",
        "            for letter in i:\n",
        "                if(letter==l):\n",
        "                    k=k+1\n",
        "print(\"Occurrences of the letter:\")\n",
        "print(k)"
      ],
      "metadata": {
        "colab": {
          "base_uri": "https://localhost:8080/"
        },
        "id": "uYnOqCvtcYbX",
        "outputId": "98f92e56-574c-4df0-d465-c0d242345eef"
      },
      "execution_count": null,
      "outputs": [
        {
          "output_type": "stream",
          "name": "stdout",
          "text": [
            "Enter file name: A.txt\n",
            "Enter letter to be searched:A.txt\n",
            "Occurrences of the letter:\n",
            "0\n"
          ]
        }
      ]
    },
    {
      "cell_type": "code",
      "source": [
        "fname = input(\"Enter file name: \")\n",
        "\n",
        "with open(fname, 'r') as f:\n",
        "    for line in f:\n",
        "        words = line.split()\n",
        "        for i in words:\n",
        "            for letter in i:\n",
        "                if(letter.isdigit()):\n",
        "                    print(letter)"
      ],
      "metadata": {
        "colab": {
          "base_uri": "https://localhost:8080/"
        },
        "id": "S6zu8JLIcpq3",
        "outputId": "b1fa84bf-d104-41b6-81a3-3180cdc41314"
      },
      "execution_count": null,
      "outputs": [
        {
          "name": "stdout",
          "output_type": "stream",
          "text": [
            "Enter file name: A.txt\n"
          ]
        }
      ]
    },
    {
      "cell_type": "code",
      "source": [
        "filename=input(\"Enter file name: \")\n",
        "for line in reversed(list(open(filename))):\n",
        "    print(line.rstrip())"
      ],
      "metadata": {
        "colab": {
          "base_uri": "https://localhost:8080/"
        },
        "id": "JYYuDISzcyPf",
        "outputId": "5641a86b-6f82-446e-f2d4-107bf8c57861"
      },
      "execution_count": null,
      "outputs": [
        {
          "output_type": "stream",
          "name": "stdout",
          "text": [
            "Enter file name: A.txt\n",
            "this is my first lab\n"
          ]
        }
      ]
    },
    {
      "cell_type": "code",
      "source": [
        "name1 = input(\"Enter file to be read from: \")\n",
        "name2 = input(\"Enter file to be appended to: \")\n",
        "fin = open(name1, \"r\")\n",
        "data2 = fin.read()\n",
        "fin.close()\n",
        "fout = open(name2, \"a\")\n",
        "fout.write(data2)\n",
        "fout.close()"
      ],
      "metadata": {
        "colab": {
          "base_uri": "https://localhost:8080/"
        },
        "id": "0FGV6CCpc7HP",
        "outputId": "38d62e7e-8922-461e-bcbb-8ff119b59b9f"
      },
      "execution_count": null,
      "outputs": [
        {
          "name": "stdout",
          "output_type": "stream",
          "text": [
            "Enter file to be read from: A.txt\n",
            "Enter file to be appended to: A.txt\n"
          ]
        }
      ]
    },
    {
      "cell_type": "code",
      "source": [
        "fname = input(\"Enter file name: \")\n",
        "file3=open(fname,\"a\")\n",
        "c=input(\"Enter string to append: \\n\");\n",
        "file3.write(\"\\n\")\n",
        "file3.write(c)\n",
        "file3.close()\n",
        "print(\"Contents of appended file:\");\n",
        "file4=open(fname,'r')\n",
        "line1=file4.readline()\n",
        "while(line1!=\"\"):\n",
        "    print(line1)\n",
        "    line1=file4.readline()\n",
        "file4.close()"
      ],
      "metadata": {
        "colab": {
          "base_uri": "https://localhost:8080/"
        },
        "id": "qJUUYJ2PdGtX",
        "outputId": "5e0e9616-9f8c-4c01-c0b8-deda1f05ab0b"
      },
      "execution_count": null,
      "outputs": [
        {
          "output_type": "stream",
          "name": "stdout",
          "text": [
            "Enter file name: A.txt\n",
            "Enter string to append: \n",
            "A.txt\n",
            "Contents of appended file:\n",
            "this is my first labthis is my first lab\n",
            "\n",
            "A.txt\n"
          ]
        }
      ]
    }
  ]
}